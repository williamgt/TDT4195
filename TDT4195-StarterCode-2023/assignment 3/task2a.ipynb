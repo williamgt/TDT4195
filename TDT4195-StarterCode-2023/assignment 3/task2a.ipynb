{
 "cells": [
  {
   "cell_type": "code",
   "execution_count": 100,
   "outputs": [],
   "source": [
    "import numpy as np\n",
    "import skimage\n",
    "import utils\n",
    "import pathlib"
   ],
   "metadata": {
    "collapsed": false
   }
  },
  {
   "cell_type": "code",
   "execution_count": 101,
   "outputs": [],
   "source": [
    "def otsu_thresholding(im: np.ndarray) -> int:\n",
    "    \"\"\"\n",
    "        Otsu's thresholding algorithm that segments an image into 1 or 0 (True or False)\n",
    "        The function takes in a grayscale image and outputs a threshold value\n",
    "\n",
    "        args:\n",
    "            im: np.ndarray of shape (H, W) in the range [0, 255] (dtype=np.uint8)\n",
    "        return:\n",
    "            (int) the computed thresholding value\n",
    "    \"\"\"\n",
    "    assert im.dtype == np.uint8\n",
    "    ### START YOUR CODE HERE ### (You can change anything inside this block)\n",
    "\n",
    "    L = 256\n",
    "    # Compute normalized histogram\n",
    "    norm_hist = np.zeros(L)\n",
    "    for i in range(im.shape[0]):\n",
    "        for j in range(im.shape[1]):\n",
    "            norm_hist[im[i][j]] += 1\n",
    "    mn = im.shape[0] * im.shape[1]\n",
    "    norm_hist = norm_hist * (1/mn)\n",
    "    #assert norm_hist.sum() == 1.0\n",
    "\n",
    "    #Computing cumulative sum, contains prob that a pixel is assigned to a value in the given threshold\n",
    "    cum_sums = np.zeros(L)\n",
    "    for k in range(L):\n",
    "        cum_sums[k] = sum(norm_hist[i] for i in range(k))\n",
    "\n",
    "    #Compute the cumulative means\n",
    "    cum_means = np.zeros(L)\n",
    "    for k in range(L):\n",
    "        cum_means[k] = sum(norm_hist[i]*i for i in range(k))\n",
    "\n",
    "    #Global intensity mean\n",
    "    glob_int_mean = sum(norm_hist[i]*i for i in range(L))\n",
    "    #glob_int_mean = cum_means[L-1] #this should actually hold, but it does not sometimes for some weird reason\n",
    "\n",
    "    #Between class variance and largest k\n",
    "    bet_class_var = np.zeros(L)\n",
    "    for k in range(L):\n",
    "        numerator = (glob_int_mean * cum_sums[k] - cum_means[k])**2\n",
    "        denominator = (cum_sums[k]*(1-cum_sums[k])) #NB! this term is 0 sometimes, resulting in some nan values, especially for the earliest between class variances\n",
    "        bet_class_var[k] = numerator/denominator\n",
    "\n",
    "    #Otsu threshold, NB! does not consider multiple ks\n",
    "    largest_k = np.nanargmax(bet_class_var)\n",
    "\n",
    "    threshold = largest_k\n",
    "\n",
    "    return threshold\n",
    "    ### END YOUR CODE HERE ###"
   ],
   "metadata": {
    "collapsed": false
   }
  },
  {
   "cell_type": "code",
   "execution_count": 102,
   "outputs": [
    {
     "name": "stdout",
     "output_type": "stream",
     "text": [
      "Reading image: images\\thumbprint.png\n",
      "Found optimal threshold: 154\n",
      "Saving image to: image_processed\\thumbprint-segmented.png\n",
      "Reading image: images\\rice-shaded.png\n",
      "Found optimal threshold: 135\n",
      "Saving image to: image_processed\\rice-shaded-segmented.png\n"
     ]
    },
    {
     "name": "stderr",
     "output_type": "stream",
     "text": [
      "C:\\Users\\willi\\AppData\\Local\\Temp\\ipykernel_21196\\418176960.py:43: RuntimeWarning: invalid value encountered in scalar divide\n",
      "  bet_class_var[k] = numerator/denominator\n"
     ]
    }
   ],
   "source": [
    "if __name__ == \"__main__\":\n",
    "    # DO NOT CHANGE\n",
    "    impaths_to_segment = [\n",
    "        pathlib.Path(\"thumbprint.png\"),\n",
    "        pathlib.Path(\"rice-shaded.png\"),\n",
    "    ]\n",
    "    for impath in impaths_to_segment:\n",
    "        im = utils.read_image(impath)\n",
    "        threshold = otsu_thresholding(im)\n",
    "        print(\"Found optimal threshold:\", threshold)\n",
    "\n",
    "        # Segment the image by threshold\n",
    "        segmented_image = (im >= threshold)\n",
    "        assert im.shape == segmented_image.shape, \"Expected image shape ({}) to be same as thresholded image shape ({})\".format(\n",
    "                im.shape, segmented_image.shape)\n",
    "        assert segmented_image.dtype == bool, \"Expected thresholded image dtype to be bool. Was: {}\".format(\n",
    "                segmented_image.dtype)\n",
    "\n",
    "        segmented_image = utils.to_uint8(segmented_image)\n",
    "\n",
    "        save_path = \"{}-segmented.png\".format(impath.stem)\n",
    "        utils.save_im(save_path, segmented_image)"
   ],
   "metadata": {
    "collapsed": false
   }
  }
 ],
 "metadata": {
  "kernelspec": {
   "display_name": "Python 3",
   "language": "python",
   "name": "python3"
  },
  "language_info": {
   "codemirror_mode": {
    "name": "ipython",
    "version": 2
   },
   "file_extension": ".py",
   "mimetype": "text/x-python",
   "name": "python",
   "nbconvert_exporter": "python",
   "pygments_lexer": "ipython2",
   "version": "2.7.6"
  }
 },
 "nbformat": 4,
 "nbformat_minor": 0
}

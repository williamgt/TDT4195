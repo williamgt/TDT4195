{
 "cells": [
  {
   "cell_type": "code",
   "execution_count": 19,
   "outputs": [],
   "source": [
    "import utils\n",
    "import numpy as np"
   ],
   "metadata": {
    "collapsed": false
   }
  },
  {
   "cell_type": "code",
   "execution_count": 20,
   "outputs": [],
   "source": [
    "def region_growing(im: np.ndarray, seed_points: list, T: int) -> np.ndarray:\n",
    "    \"\"\"\n",
    "        A region growing algorithm that segments an image into 1 or 0 (True or False).\n",
    "        Finds candidate pixels with a Moore-neighborhood (8-connectedness).\n",
    "        Uses pixel intensity thresholding with the threshold T as the homogeneity criteria.\n",
    "        The function takes in a grayscale image and outputs a boolean image\n",
    "\n",
    "        args:\n",
    "            im: np.ndarray of shape (H, W) in the range [0, 255] (dtype=np.uint8)\n",
    "            seed_points: list of list containing seed points (row, col). Ex:\n",
    "                [[row1, col1], [row2, col2], ...]\n",
    "            T: integer value defining the threshold to used for the homogeneity criteria.\n",
    "        return:\n",
    "            (np.ndarray) of shape (H, W). dtype=bool\n",
    "    \"\"\"\n",
    "    segmented = np.zeros_like(im).astype(bool)\n",
    "    im = im.astype(float)\n",
    "    for row, col in seed_points:\n",
    "        segmented[row, col] = True\n",
    "\n",
    "    def H(Ri, seed): #Homogeneity criteria helper function\n",
    "        return abs(Ri - seed) < T\n",
    "\n",
    "    def get_moore_neighborhood(im, row, col): #The Moore neighborhood helper function\n",
    "        height, width = im.shape\n",
    "        neighborhood = np.full(shape=(3,3), fill_value=(0,0,0), dtype=object) #Tuple containing value of image and i j indices\n",
    "\n",
    "        pos_i = 0 #Counting where to place neighbor in neighborhood\n",
    "        for i in range(row - 1, row + 2):\n",
    "            pos_j = 0 #Counting where to place neighbor in neighborhood\n",
    "            for j in range(col - 1, col + 2):\n",
    "                if 0 <= i < height and 0 <= j < width: #Only include if within image\n",
    "                    neighborhood[pos_i, pos_j] = (im[i, j], i, j) #Add value and position of neighbor\n",
    "                pos_j += 1\n",
    "            pos_i += 1\n",
    "\n",
    "        return neighborhood\n",
    "\n",
    "    #Looking at all the seed points\n",
    "    for seed_point in seed_points:\n",
    "        candidates = [seed_point]\n",
    "\n",
    "        #Looping while candidates are present\n",
    "        while len(candidates) > 0:\n",
    "            #Get neighbors of candidate\n",
    "            candidate = candidates.pop()\n",
    "            neighbors = get_moore_neighborhood(im, candidate[0], candidate[1])\n",
    "\n",
    "            #Loop through 3x3 neighbors\n",
    "            for i in range(3):\n",
    "                for j in range(3):\n",
    "                    #Need to check if a valid neighbor first\n",
    "                    if isinstance(neighbors[i,j], tuple):\n",
    "                        #If passing homogeneity criteria and not already visited, then ...\n",
    "                        if H(neighbors[i,j][0], im[seed_point[0],seed_point[1]]) and not segmented[neighbors[i,j][1],neighbors[i,j][2]]:\n",
    "                            #... update segmented image and add more candidates to be checked\n",
    "                            segmented[neighbors[i,j][1],neighbors[i,j][2]] = True\n",
    "                            candidates.append([neighbors[i,j][1],neighbors[i,j][2]])\n",
    "\n",
    "\n",
    "    return segmented\n",
    "    ### END YOUR CODE HERE ###"
   ],
   "metadata": {
    "collapsed": false
   }
  },
  {
   "cell_type": "code",
   "execution_count": 21,
   "outputs": [
    {
     "name": "stdout",
     "output_type": "stream",
     "text": [
      "Reading image: images\\defective-weld.png\n",
      "Saving image to: image_processed\\defective-weld-segmented.png\n"
     ]
    }
   ],
   "source": [
    "if __name__ == \"__main__\":\n",
    "    # DO NOT CHANGE\n",
    "    im = utils.read_image(\"defective-weld.png\")\n",
    "\n",
    "    seed_points = [ # (row, column)\n",
    "        [254, 138], # Seed point 1\n",
    "        [253, 296], # Seed point 2\n",
    "        [233, 436], # Seed point 3\n",
    "        [232, 417], # Seed point 4\n",
    "    ]\n",
    "    intensity_threshold = 50\n",
    "    segmented_image = region_growing(im, seed_points, intensity_threshold)\n",
    "\n",
    "    assert im.shape == segmented_image.shape, \"Expected image shape ({}) to be same as thresholded image shape ({})\".format(\n",
    "        im.shape, segmented_image.shape)\n",
    "    assert segmented_image.dtype == bool, \"Expected thresholded image dtype to be bool. Was: {}\".format(\n",
    "            segmented_image.dtype)\n",
    "\n",
    "    segmented_image = utils.to_uint8(segmented_image)\n",
    "    utils.save_im(\"defective-weld-segmented.png\", segmented_image)"
   ],
   "metadata": {
    "collapsed": false
   }
  }
 ],
 "metadata": {
  "kernelspec": {
   "display_name": "Python 3",
   "language": "python",
   "name": "python3"
  },
  "language_info": {
   "codemirror_mode": {
    "name": "ipython",
    "version": 2
   },
   "file_extension": ".py",
   "mimetype": "text/x-python",
   "name": "python",
   "nbconvert_exporter": "python",
   "pygments_lexer": "ipython2",
   "version": "2.7.6"
  }
 },
 "nbformat": 4,
 "nbformat_minor": 0
}

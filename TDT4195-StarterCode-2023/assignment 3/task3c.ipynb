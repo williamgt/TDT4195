{
 "cells": [
  {
   "cell_type": "code",
   "execution_count": null,
   "id": "cb9f3a45",
   "metadata": {},
   "outputs": [],
   "source": [
    "import utils\n",
    "import skimage\n",
    "import skimage.morphology\n",
    "import numpy as np"
   ]
  },
  {
   "cell_type": "code",
   "execution_count": null,
   "id": "c425b68f",
   "metadata": {},
   "outputs": [],
   "source": [
    "def extract_boundary(im: np.ndarray) -> np.ndarray:\n",
    "    \"\"\"\n",
    "        A function that extracts the inner boundary from a boolean image.\n",
    "\n",
    "        args:\n",
    "            im: np.ndarray of shape (H, W) with boolean values (dtype=np.bool)\n",
    "        return:\n",
    "            (np.ndarray) of shape (H, W). dtype=np.bool\n",
    "    \"\"\"\n",
    "    ### START YOUR CODE HERE ### (You can change anything inside this block)\n",
    "    # You can also define other helper functions\n",
    "    structuring_element = np.array([\n",
    "        [1, 1, 1],\n",
    "        [1, 1, 1],\n",
    "        [1, 1, 1]\n",
    "    ], dtype=bool)\n",
    "    boundary = im\n",
    "    return boundary\n",
    "    ### END YOUR CODE HERE ###"
   ]
  },
  {
   "cell_type": "code",
   "execution_count": null,
   "id": "1140c25c",
   "metadata": {},
   "outputs": [],
   "source": [
    "if __name__ == \"__main__\":\n",
    "    im = utils.read_image(\"blood-vessels.png\")\n",
    "    binary_image = (im != 0)\n",
    "    boundary = extract_boundary(binary_image)\n",
    "\n",
    "    assert im.shape == boundary.shape, \"Expected image shape ({}) to be same as resulting image shape ({})\".format(\n",
    "            im.shape, boundary.shape)\n",
    "    assert boundary.dtype == bool, \"Expected resulting image dtype to be bool. Was: {}\".format(\n",
    "            boundary.dtype)\n",
    "\n",
    "    boundary = utils.to_uint8(boundary)\n",
    "    utils.save_im(\"blood-vessels-boundary.png\", boundary)"
   ]
  }
 ],
 "metadata": {},
 "nbformat": 4,
 "nbformat_minor": 5
}
